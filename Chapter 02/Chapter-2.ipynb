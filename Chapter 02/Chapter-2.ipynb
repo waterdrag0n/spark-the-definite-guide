{
 "cells": [
  {
   "cell_type": "markdown",
   "metadata": {},
   "source": [
    "교재 예제처럼 spark.read로 csv를 불러오려다 무한 오류에 빠졌었습니다. (ec2)\n",
    "\n",
    "그래서 pandas로 받아와서 DataFrame으로 변환하게 되었습니다."
   ]
  },
  {
   "cell_type": "code",
   "execution_count": null,
   "metadata": {},
   "outputs": [],
   "source": [
    "# ms 제공 예제 : pd -> df\n",
    "# Generate a pandas DataFrame\n",
    "pdf = pd.DataFrame(np.random.rand(100, 3))\n",
    "\n",
    "# Create a Spark DataFrame from a pandas DataFrame using Arrow\n",
    "df = spark.createDataFrame(pdf)"
   ]
  },
  {
   "cell_type": "code",
   "execution_count": 5,
   "metadata": {},
   "outputs": [
    {
     "data": {
      "text/html": [
       "\n",
       "            <div>\n",
       "                <p><b>SparkSession - hive</b></p>\n",
       "                \n",
       "        <div>\n",
       "            <p><b>SparkContext</b></p>\n",
       "\n",
       "            <p><a href=\"http://ip-172-31-8-249.us-east-2.compute.internal:4040\">Spark UI</a></p>\n",
       "\n",
       "            <dl>\n",
       "              <dt>Version</dt>\n",
       "                <dd><code>v2.4.7</code></dd>\n",
       "              <dt>Master</dt>\n",
       "                <dd><code>local[*]</code></dd>\n",
       "              <dt>AppName</dt>\n",
       "                <dd><code>PySparkShell</code></dd>\n",
       "            </dl>\n",
       "        </div>\n",
       "        \n",
       "            </div>\n",
       "        "
      ],
      "text/plain": [
       "<pyspark.sql.session.SparkSession at 0x7fe166c30110>"
      ]
     },
     "execution_count": 5,
     "metadata": {},
     "output_type": "execute_result"
    }
   ],
   "source": [
    "spark"
   ]
  },
  {
   "cell_type": "code",
   "execution_count": 2,
   "metadata": {},
   "outputs": [],
   "source": [
    "myRange = spark.range(1000).toDF('number')\n",
    "# 1개의 컬럼과 1000개의 로우. 각 로우에 0~999까지의 값이 할당\n",
    "# 각 부분이 서로 다른 익스큐터에 할당됨"
   ]
  },
  {
   "cell_type": "code",
   "execution_count": 3,
   "metadata": {},
   "outputs": [],
   "source": [
    "divisBy2 = myRange.where('number % 2 = 0')\n",
    "# 액션을 하지 않아 결과 출력 x\n",
    "# 짝수 찾는 예제"
   ]
  },
  {
   "cell_type": "code",
   "execution_count": 4,
   "metadata": {},
   "outputs": [
    {
     "data": {
      "text/plain": [
       "500"
      ]
     },
     "execution_count": 4,
     "metadata": {},
     "output_type": "execute_result"
    }
   ],
   "source": [
    "# 액션\n",
    "divisBy2.count()"
   ]
  },
  {
   "cell_type": "code",
   "execution_count": 1,
   "metadata": {},
   "outputs": [
    {
     "data": {
      "text/plain": [
       "'/home/ubuntu/hadoop-2.9.0/spark-defintive-guide'"
      ]
     },
     "execution_count": 1,
     "metadata": {},
     "output_type": "execute_result"
    }
   ],
   "source": [
    "pwd"
   ]
  },
  {
   "cell_type": "code",
   "execution_count": 3,
   "metadata": {
    "scrolled": false
   },
   "outputs": [
    {
     "name": "stdout",
     "output_type": "stream",
     "text": [
      "2010-summary.csv  2012-summary.csv  2014-summary.csv\r\n",
      "2011-summary.csv  2013-summary.csv  2015-summary.csv\r\n"
     ]
    }
   ],
   "source": [
    "ls ./flight-data"
   ]
  },
  {
   "cell_type": "code",
   "execution_count": 1,
   "metadata": {},
   "outputs": [
    {
     "name": "stdout",
     "output_type": "stream",
     "text": [
      "Collecting pyarrow\n",
      "\u001b[?25l  Downloading https://files.pythonhosted.org/packages/f2/ce/2e65f2453dc5099805c77cffb84c459e562eb5ddcc96ffea834a929c8f70/pyarrow-5.0.0-cp37-cp37m-manylinux2010_x86_64.whl (22.6MB)\n",
      "\u001b[K     |████████████████████████████████| 22.6MB 4.3MB/s eta 0:00:01\n",
      "\u001b[?25hRequirement already satisfied: numpy>=1.16.6 in /home/ubuntu/anaconda3/lib/python3.7/site-packages (from pyarrow) (1.17.2)\n",
      "Installing collected packages: pyarrow\n",
      "Successfully installed pyarrow-5.0.0\n",
      "Note: you may need to restart the kernel to use updated packages.\n"
     ]
    }
   ],
   "source": [
    "pip install pyarrow"
   ]
  },
  {
   "cell_type": "code",
   "execution_count": 2,
   "metadata": {},
   "outputs": [],
   "source": [
    "import pyarrow\n",
    "import pandas as pd\n",
    "from pyarrow import csv"
   ]
  },
  {
   "cell_type": "code",
   "execution_count": null,
   "metadata": {},
   "outputs": [],
   "source": [
    "# 실패한 코드\n",
    "\n",
    "flightData2015 = spark\\\n",
    ".read\\\n",
    ".option('inferSchema', 'true')\\\n",
    ".option('header', 'true')\\\n",
    ".csv('./flight-data/2015-summary.csv')"
   ]
  },
  {
   "cell_type": "code",
   "execution_count": 14,
   "metadata": {},
   "outputs": [],
   "source": [
    "flightData2015pandas = pd.read_csv('./flight-data/2015-summary.csv')\n",
    "flightData2015 = spark.createDataFrame(flight)"
   ]
  },
  {
   "cell_type": "code",
   "execution_count": 10,
   "metadata": {},
   "outputs": [
    {
     "name": "stdout",
     "output_type": "stream",
     "text": [
      "DataFrame[DEST_COUNTRY_NAME: string, ORIGIN_COUNTRY_NAME: string, count: bigint]\n"
     ]
    }
   ],
   "source": [
    "print(df)"
   ]
  },
  {
   "cell_type": "code",
   "execution_count": 12,
   "metadata": {},
   "outputs": [
    {
     "data": {
      "text/plain": [
       "[Row(DEST_COUNTRY_NAME='United States', ORIGIN_COUNTRY_NAME='Romania', count=15),\n",
       " Row(DEST_COUNTRY_NAME='United States', ORIGIN_COUNTRY_NAME='Croatia', count=1),\n",
       " Row(DEST_COUNTRY_NAME='United States', ORIGIN_COUNTRY_NAME='Ireland', count=344)]"
      ]
     },
     "execution_count": 12,
     "metadata": {},
     "output_type": "execute_result"
    }
   ],
   "source": [
    "# head와 동일\n",
    "df.take(3)"
   ]
  },
  {
   "cell_type": "code",
   "execution_count": 15,
   "metadata": {},
   "outputs": [
    {
     "name": "stdout",
     "output_type": "stream",
     "text": [
      "== Physical Plan ==\n",
      "*(1) Sort [count#14L ASC NULLS FIRST], true, 0\n",
      "+- Exchange rangepartitioning(count#14L ASC NULLS FIRST, 200)\n",
      "   +- Scan ExistingRDD[DEST_COUNTRY_NAME#12,ORIGIN_COUNTRY_NAME#13,count#14L]\n"
     ]
    }
   ],
   "source": [
    "flightData2015.sort('count').explain()"
   ]
  },
  {
   "cell_type": "code",
   "execution_count": 17,
   "metadata": {},
   "outputs": [
    {
     "data": {
      "text/plain": [
       "[Row(DEST_COUNTRY_NAME='Burkina Faso', ORIGIN_COUNTRY_NAME='United States', count=1),\n",
       " Row(DEST_COUNTRY_NAME='Djibouti', ORIGIN_COUNTRY_NAME='United States', count=1)]"
      ]
     },
     "execution_count": 17,
     "metadata": {},
     "output_type": "execute_result"
    }
   ],
   "source": [
    "spark.conf.set('spark.sql.shuffle.partitions', '5')\n",
    "flightData2015.sort('count').take(2)"
   ]
  },
  {
   "cell_type": "code",
   "execution_count": 19,
   "metadata": {},
   "outputs": [],
   "source": [
    "# 모든 df를 테이블이나 뷰로 만듦\n",
    "# SQL 사용 가능\n",
    "flightData2015.createOrReplaceTempView('flightData2015')"
   ]
  },
  {
   "cell_type": "markdown",
   "metadata": {},
   "source": [
    "***spark.sql 사용하는 과정에서 지속적으로 에러. 원인 찾지 못함.***"
   ]
  },
  {
   "cell_type": "code",
   "execution_count": 24,
   "metadata": {},
   "outputs": [
    {
     "name": "stdout",
     "output_type": "stream",
     "text": [
      "== Physical Plan ==\n",
      "*(2) HashAggregate(keys=[DEST_COUNTRY_NAME#12], functions=[count(1)])\n",
      "+- Exchange hashpartitioning(DEST_COUNTRY_NAME#12, 5)\n",
      "   +- *(1) HashAggregate(keys=[DEST_COUNTRY_NAME#12], functions=[partial_count(1)])\n",
      "      +- *(1) Project [DEST_COUNTRY_NAME#12]\n",
      "         +- Scan ExistingRDD[DEST_COUNTRY_NAME#12,ORIGIN_COUNTRY_NAME#13,count#14L]\n"
     ]
    }
   ],
   "source": [
    "# 두 가지 모두 동일한 실행 계획으로 컴파일 됨\n",
    "\n",
    "# sqlWay = spark.sql(\"\"\"\n",
    "# SELECT DEST_COUNTRY_NAME, count(1)\n",
    "# FROM flightData2015\n",
    "# GROUP BY DEST_COUNTRY_NAME\n",
    "# \"\"\")\n",
    "\n",
    "dataFrameWay = flightData2015\\\n",
    ".groupBy(\"DEST_COUNTRY_NAME\")\\\n",
    ".count()\n",
    "\n",
    "# sqlWay.explain()\n",
    "dataFrameWay.explain()"
   ]
  },
  {
   "cell_type": "code",
   "execution_count": 22,
   "metadata": {},
   "outputs": [
    {
     "data": {
      "text/plain": [
       "[Row(max(count)=370002)]"
      ]
     },
     "execution_count": 22,
     "metadata": {},
     "output_type": "execute_result"
    }
   ],
   "source": [
    "from pyspark.sql.functions import max\n",
    "\n",
    "flightData2015.select(max('count')).take(1)"
   ]
  },
  {
   "cell_type": "code",
   "execution_count": 27,
   "metadata": {},
   "outputs": [
    {
     "name": "stdout",
     "output_type": "stream",
     "text": [
      "+-----------------+-----------------+\n",
      "|DEST_COUNTRY_NAME|destination_total|\n",
      "+-----------------+-----------------+\n",
      "|    United States|           411352|\n",
      "|           Canada|             8399|\n",
      "|           Mexico|             7140|\n",
      "|   United Kingdom|             2025|\n",
      "|            Japan|             1548|\n",
      "+-----------------+-----------------+\n",
      "\n"
     ]
    }
   ],
   "source": [
    "# 둘 모두 동일한 결과\n",
    "\n",
    "# maxSql = spark.sql(\"\"\"\n",
    "# SELECT DEST_COUNTRY_NAME, sum(count) as destination_total\n",
    "# FROM flightData2015\n",
    "# GROUP BY DEST_COUNTRY_NAME\n",
    "# ORDER BY sum(count) DESC\n",
    "# LIMIT 5\n",
    "# \"\"\")\n",
    "# maxSQL.show()\n",
    "\n",
    "from pyspark.sql.functions import desc\n",
    "flightData2015\\\n",
    ".groupBy('DEST_COUNTRY_NAME')\\\n",
    ".sum('count')\\\n",
    ".withColumnRenamed('sum(count)', 'destination_total')\\\n",
    ".sort(desc('destination_total'))\\\n",
    ".limit(5)\\\n",
    ".show()"
   ]
  },
  {
   "cell_type": "code",
   "execution_count": 28,
   "metadata": {},
   "outputs": [
    {
     "name": "stdout",
     "output_type": "stream",
     "text": [
      "== Physical Plan ==\n",
      "TakeOrderedAndProject(limit=5, orderBy=[destination_total#68L DESC NULLS LAST], output=[DEST_COUNTRY_NAME#12,destination_total#68L])\n",
      "+- *(2) HashAggregate(keys=[DEST_COUNTRY_NAME#12], functions=[sum(count#14L)])\n",
      "   +- Exchange hashpartitioning(DEST_COUNTRY_NAME#12, 5)\n",
      "      +- *(1) HashAggregate(keys=[DEST_COUNTRY_NAME#12], functions=[partial_sum(count#14L)])\n",
      "         +- *(1) Project [DEST_COUNTRY_NAME#12, count#14L]\n",
      "            +- Scan ExistingRDD[DEST_COUNTRY_NAME#12,ORIGIN_COUNTRY_NAME#13,count#14L]\n"
     ]
    }
   ],
   "source": [
    "flightData2015\\\n",
    ".groupBy('DEST_COUNTRY_NAME')\\\n",
    ".sum('count')\\\n",
    ".withColumnRenamed('sum(count)', 'destination_total')\\\n",
    ".sort(desc('destination_total'))\\\n",
    ".limit(5)\\\n",
    ".explain()"
   ]
  }
 ],
 "metadata": {
  "kernelspec": {
   "display_name": "Python 3",
   "language": "python",
   "name": "python3"
  },
  "language_info": {
   "codemirror_mode": {
    "name": "ipython",
    "version": 3
   },
   "file_extension": ".py",
   "mimetype": "text/x-python",
   "name": "python",
   "nbconvert_exporter": "python",
   "pygments_lexer": "ipython3",
   "version": "3.7.4"
  }
 },
 "nbformat": 4,
 "nbformat_minor": 2
}
